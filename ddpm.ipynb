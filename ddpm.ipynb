{
 "cells": [
  {
   "cell_type": "code",
   "execution_count": 1,
   "metadata": {},
   "outputs": [],
   "source": [
    "import numpy as np\n",
    "import matplotlib.pyplot as plt"
   ]
  },
  {
   "cell_type": "markdown",
   "metadata": {},
   "source": [
    "## Generate a 2D Dataset (Two Moons)\n",
    "We'll start by generating a simple 2D dataset, like the \"two moons\" shape, using scikit-learn:"
   ]
  },
  {
   "cell_type": "code",
   "execution_count": 16,
   "metadata": {},
   "outputs": [
    {
     "data": {
      "image/png": "[encoded data removed]",
      "text/plain": [
       "<Figure size 432x288 with 1 Axes>"
      ]
     },
     "metadata": {
      "needs_background": "light"
     },
     "output_type": "display_data"
    }
   ],
   "source": [
    "from datasets import (\n",
    "    TwoMoonsDataset,\n",
    "    TwoCirclesDataset,\n",
    "    GaussianBlobsDataset,\n",
    "    SwissRollDataset,\n",
    "    SpiralDataset,\n",
    "    StarDataset,\n",
    "    HeartDataset,\n",
    "    CircleDataset,\n",
    "    LineDataset,\n",
    "    WaveDataset,\n",
    ")\n",
    "\n",
    "\n",
    "twomoons_dataset = TwoMoonsDataset(n_samples=20, n_points=500, noise=0.1)\n",
    "\n",
    "# Generate two moons data\n",
    "data = next(iter(twomoons_dataset))\n",
    "\n",
    "plt.scatter(data[:, 0], data[:, 1], c='blue')\n",
    "plt.title('Two Moons Data')\n",
    "plt.show()"
   ]
  },
  {
   "cell_type": "code",
   "execution_count": 25,
   "metadata": {},
   "outputs": [],
   "source": [
    "from torch.utils.data import DataLoader\n",
    "\n",
    "\n",
    "\n",
    "batch_size = 128\n",
    "\n",
    "# Initialize the model, optimizer, and loss function\n",
    "criterion = nn.MSELoss()\n",
    "ddpm = DDPM(timesteps=timesteps, criterion=criterion)\n",
    "optimizer = optim.Adam(ddpm.parameters(), lr=learning_rate)\n",
    "\n",
    "# Create a DataLoader\n",
    "dataloader = DataLoader(twomoons_dataset, batch_size=batch_size, shuffle=True)"
   ]
  },
  {
   "cell_type": "markdown",
   "metadata": {},
   "source": [
    "## Define the DDPM Framework\n",
    "Next, we'll define the core components of the DDPM: the forward process (adding noise) and the reverse process (denoising)."
   ]
  },
  {
   "cell_type": "code",
   "execution_count": 26,
   "metadata": {},
   "outputs": [],
   "source": [
    "import torch\n",
    "import torch.nn as nn\n",
    "import torch.optim as optim\n",
    "\n",
    "\n",
    "\n",
    "\n",
    "class DDPM(nn.Module):\n",
    "    def __init__(self, timesteps=1000, criterion=nn.MSELoss()):\n",
    "        super(DDPM, self).__init__()\n",
    "        self.criterion = criterion\n",
    "        self.timesteps = timesteps\n",
    "        self.betas = torch.linspace(0.0001, 0.02, timesteps)\n",
    "        self.alphas = 1.0 - self.betas\n",
    "        self.alphas_cumprod = torch.cumprod(self.alphas, axis=0)\n",
    "        self.alphas_cumprod_prev = torch.cat([torch.tensor([1.0]), self.alphas_cumprod[:-1]], axis=0)\n",
    "        self.sqrt_recip_alphas = torch.sqrt(1.0 / self.alphas)\n",
    "        self.posterior_variance = self.betas * (1.0 - self.alphas_cumprod_prev) / (1.0 - self.alphas_cumprod)\n",
    "\n",
    "        self.model = nn.Sequential(\n",
    "            nn.Linear(2, 128),\n",
    "            nn.ReLU(),\n",
    "            nn.Linear(128, 128),\n",
    "            nn.ReLU(),\n",
    "            nn.Linear(128, 2)\n",
    "        )\n",
    "\n",
    "    def forward_diffusion(self, x_0, t):\n",
    "        noise = torch.randn_like(x_0)\n",
    "        sqrt_alpha_cumprod_t = self.alphas_cumprod[t].sqrt().unsqueeze(1)\n",
    "        sqrt_one_minus_alpha_cumprod_t = (1.0 - self.alphas_cumprod[t]).sqrt().unsqueeze(1)\n",
    "        return sqrt_alpha_cumprod_t * x_0 + sqrt_one_minus_alpha_cumprod_t * noise, noise\n",
    "\n",
    "    def reverse_diffusion(self, x_t, t):\n",
    "        mean = (1.0 / self.sqrt_recip_alphas[t]) * (x_t - self.betas[t] / (1.0 - self.alphas_cumprod[t]).sqrt() * self.model(x_t))\n",
    "        noise = torch.randn_like(x_t) if t > 0 else 0\n",
    "        return mean + (self.posterior_variance[t].sqrt() * noise)\n",
    "\n",
    "    def loss(self, x_0, t):\n",
    "        x_t, noise = self.forward_diffusion(x_0, t)\n",
    "        predicted_noise = self.model(x_t)\n",
    "        return self.criterion(predicted_noise, noise)\n"
   ]
  },
  {
   "cell_type": "markdown",
   "metadata": {},
   "source": [
    "## Training the Model\n",
    "Now, let's train the DDPM on the two moons dataset."
   ]
  },
  {
   "cell_type": "code",
   "execution_count": 27,
   "metadata": {},
   "outputs": [
    {
     "ename": "RuntimeError",
     "evalue": "The size of tensor a (128) must match the size of tensor b (500) at non-singleton dimension 1",
     "output_type": "error",
     "traceback": [
      "\u001b[0;31m---------------------------------------------------------------------------\u001b[0m",
      "\u001b[0;31mRuntimeError\u001b[0m                              Traceback (most recent call last)",
      "Input \u001b[0;32mIn [27]\u001b[0m, in \u001b[0;36m<cell line: 2>\u001b[0;34m()\u001b[0m\n\u001b[1;32m      4\u001b[0m x_0 \u001b[38;5;241m=\u001b[39m data\n\u001b[1;32m      5\u001b[0m t \u001b[38;5;241m=\u001b[39m torch\u001b[38;5;241m.\u001b[39mrandint(\u001b[38;5;241m0\u001b[39m, timesteps, (batch_size,), device\u001b[38;5;241m=\u001b[39mdata\u001b[38;5;241m.\u001b[39mdevice)\n\u001b[0;32m----> 7\u001b[0m loss \u001b[38;5;241m=\u001b[39m \u001b[43mddpm\u001b[49m\u001b[38;5;241;43m.\u001b[39;49m\u001b[43mloss\u001b[49m\u001b[43m(\u001b[49m\u001b[43mx_0\u001b[49m\u001b[43m,\u001b[49m\u001b[43m \u001b[49m\u001b[43mt\u001b[49m\u001b[43m)\u001b[49m\n\u001b[1;32m      9\u001b[0m optimizer\u001b[38;5;241m.\u001b[39mzero_grad()\n\u001b[1;32m     10\u001b[0m loss\u001b[38;5;241m.\u001b[39mbackward()\n",
      "Input \u001b[0;32mIn [26]\u001b[0m, in \u001b[0;36mDDPM.loss\u001b[0;34m(self, x_0, t)\u001b[0m\n\u001b[1;32m     39\u001b[0m \u001b[38;5;28;01mdef\u001b[39;00m \u001b[38;5;21mloss\u001b[39m(\u001b[38;5;28mself\u001b[39m, x_0, t):\n\u001b[0;32m---> 40\u001b[0m     x_t, noise \u001b[38;5;241m=\u001b[39m \u001b[38;5;28;43mself\u001b[39;49m\u001b[38;5;241;43m.\u001b[39;49m\u001b[43mforward_diffusion\u001b[49m\u001b[43m(\u001b[49m\u001b[43mx_0\u001b[49m\u001b[43m,\u001b[49m\u001b[43m \u001b[49m\u001b[43mt\u001b[49m\u001b[43m)\u001b[49m\n\u001b[1;32m     41\u001b[0m     predicted_noise \u001b[38;5;241m=\u001b[39m \u001b[38;5;28mself\u001b[39m\u001b[38;5;241m.\u001b[39mmodel(x_t)\n\u001b[1;32m     42\u001b[0m     \u001b[38;5;28;01mreturn\u001b[39;00m \u001b[38;5;28mself\u001b[39m\u001b[38;5;241m.\u001b[39mcriterion(predicted_noise, noise)\n",
      "Input \u001b[0;32mIn [26]\u001b[0m, in \u001b[0;36mDDPM.forward_diffusion\u001b[0;34m(self, x_0, t)\u001b[0m\n\u001b[1;32m     30\u001b[0m sqrt_alpha_cumprod_t \u001b[38;5;241m=\u001b[39m \u001b[38;5;28mself\u001b[39m\u001b[38;5;241m.\u001b[39malphas_cumprod[t]\u001b[38;5;241m.\u001b[39msqrt()\u001b[38;5;241m.\u001b[39munsqueeze(\u001b[38;5;241m1\u001b[39m)\n\u001b[1;32m     31\u001b[0m sqrt_one_minus_alpha_cumprod_t \u001b[38;5;241m=\u001b[39m (\u001b[38;5;241m1.0\u001b[39m \u001b[38;5;241m-\u001b[39m \u001b[38;5;28mself\u001b[39m\u001b[38;5;241m.\u001b[39malphas_cumprod[t])\u001b[38;5;241m.\u001b[39msqrt()\u001b[38;5;241m.\u001b[39munsqueeze(\u001b[38;5;241m1\u001b[39m)\n\u001b[0;32m---> 32\u001b[0m \u001b[38;5;28;01mreturn\u001b[39;00m \u001b[43msqrt_alpha_cumprod_t\u001b[49m\u001b[43m \u001b[49m\u001b[38;5;241;43m*\u001b[39;49m\u001b[43m \u001b[49m\u001b[43mx_0\u001b[49m \u001b[38;5;241m+\u001b[39m sqrt_one_minus_alpha_cumprod_t \u001b[38;5;241m*\u001b[39m noise, noise\n",
      "\u001b[0;31mRuntimeError\u001b[0m: The size of tensor a (128) must match the size of tensor b (500) at non-singleton dimension 1"
     ]
    }
   ],
   "source": [
    "\n",
    "# Training loop\n",
    "for epoch in range(epochs):\n",
    "    for data in dataloader:\n",
    "        x_0 = data\n",
    "        t = torch.randint(0, timesteps, (batch_size,), device=data.device)\n",
    "        \n",
    "        loss = ddpm.loss(x_0, t)\n",
    "        \n",
    "        optimizer.zero_grad()\n",
    "        loss.backward()\n",
    "        optimizer.step()\n",
    "    \n",
    "    print(f'Epoch {epoch + 1}/{epochs}, Loss: {loss.item()}')"
   ]
  },
  {
   "cell_type": "markdown",
   "metadata": {},
   "source": [
    "## Sampling from the Model\n",
    "After training, we can sample points from the model to reconstruct the original data distribution."
   ]
  },
  {
   "cell_type": "code",
   "execution_count": null,
   "metadata": {},
   "outputs": [],
   "source": [
    "def sample(ddpm, timesteps, num_samples=1000):\n",
    "    x = torch.randn((num_samples, 2))\n",
    "    for t in reversed(range(timesteps)):\n",
    "        x = ddpm.reverse_diffusion(x, torch.tensor([t]))\n",
    "    return x.detach().numpy()\n",
    "\n",
    "samples = sample(ddpm, timesteps=timesteps)\n",
    "\n",
    "plt.scatter(samples[:, 0], samples[:, 1], c='red')\n",
    "plt.title('Generated Samples')\n",
    "plt.show()\n"
   ]
  },
  {
   "cell_type": "markdown",
   "metadata": {},
   "source": [
    "## Visualizing the Process\n",
    "To visualize how the diffusion process perturbs the data and how the model denoises it, you can save intermediate images or create an animation."
   ]
  },
  {
   "cell_type": "code",
   "execution_count": null,
   "metadata": {},
   "outputs": [],
   "source": [
    "import matplotlib.animation as animation\n",
    "\n",
    "fig, ax = plt.subplots()\n",
    "ax.set_xlim(0, 1)\n",
    "ax.set_ylim(0, 1)\n",
    "\n",
    "line, = ax.plot([], [], 'ro')\n",
    "\n",
    "def init():\n",
    "    line.set_data([], [])\n",
    "    return line,\n",
    "\n",
    "def animate(i):\n",
    "    t = timesteps - i - 1\n",
    "    samples = sample(ddpm, timesteps=timesteps, num_samples=100)\n",
    "    line.set_data(samples[:, 0], samples[:, 1])\n",
    "    return line,\n",
    "\n",
    "ani = animation.FuncAnimation(fig, animate, init_func=init, frames=timesteps, interval=50, blit=True)\n",
    "plt.show()\n"
   ]
  },
  {
   "cell_type": "markdown",
   "metadata": {},
   "source": []
  }
 ],
 "metadata": {
  "kernelspec": {
   "display_name": "venv",
   "language": "python",
   "name": "python3"
  },
  "language_info": {
   "codemirror_mode": {
    "name": "ipython",
    "version": 3
   },
   "file_extension": ".py",
   "mimetype": "text/x-python",
   "name": "python",
   "nbconvert_exporter": "python",
   "pygments_lexer": "ipython3",
   "version": "3.9.17"
  }
 },
 "nbformat": 4,
 "nbformat_minor": 2
}
